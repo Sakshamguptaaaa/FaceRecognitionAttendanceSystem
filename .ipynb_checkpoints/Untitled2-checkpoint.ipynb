{
 "cells": [
  {
   "cell_type": "code",
   "execution_count": 1,
   "id": "15a1ae4c-7704-47a5-a65b-d9dfebbc35dd",
   "metadata": {},
   "outputs": [],
   "source": [
    "import face_recognition\n",
    "import cv2\n",
    "import numpy as np\n",
    "import os\n",
    "from flask import Flask, render_template, request, redirect, send_file, jsonify, flash\n",
    "from datetime import datetime\n",
    "import csv\n",
    "\n",
    "app = Flask(__name__)\n",
    "app.secret_key = 'supersecretkey'\n",
    "\n",
    "known_face_encodings = []\n",
    "known_face_names = []\n",
    "\n",
    "# Load known faces\n",
    "def load_known_faces():\n",
    "    known_face_encodings.clear()\n",
    "    known_face_names.clear()\n",
    "    for filename in os.listdir('known_faces'):\n",
    "        if filename.endswith(('.jpg', '.png')):\n",
    "            img = face_recognition.load_image_file(f'known_faces/{filename}')\n",
    "            encodings = face_recognition.face_encodings(img)\n",
    "            if encodings:\n",
    "                known_face_encodings.append(encodings[0])\n",
    "                known_face_names.append(os.path.splitext(filename)[0])\n",
    "\n",
    "load_known_faces()\n",
    "\n",
    "# Mark attendance\n",
    "attendance_records = set()\n",
    "\n",
    "def mark_attendance(name):\n",
    "    now = datetime.now()\n",
    "    dt_string = now.strftime('%Y-%m-%d %H:%M:%S')\n",
    "    record = (name, dt_string)\n",
    "    if record not in attendance_records:\n",
    "        attendance_records.add(record)\n",
    "        with open('attendance.csv', 'a', newline='') as f:\n",
    "            writer = csv.writer(f)\n",
    "            writer.writerow([name, dt_string])\n",
    "\n",
    "def read_attendance():\n",
    "    if not os.path.exists('attendance.csv'):\n",
    "        return []\n",
    "    with open('attendance.csv', 'r') as f:\n",
    "        reader = csv.reader(f)\n",
    "        return list(reader)\n",
    "\n",
    "@app.route('/', methods=['GET', 'POST'])\n",
    "def index():\n",
    "    recognized_names = []\n",
    "    if request.method == 'POST':\n",
    "        if 'image' not in request.files:\n",
    "            flash('No file part')\n",
    "            return redirect(request.url)\n",
    "        file = request.files['image']\n",
    "        if file.filename == '':\n",
    "            flash('No selected file')\n",
    "            return redirect(request.url)\n",
    "        if file:\n",
    "            filepath = os.path.join('uploads', file.filename)\n",
    "            file.save(filepath)\n",
    "\n",
    "            img = face_recognition.load_image_file(filepath)\n",
    "            face_locations = face_recognition.face_locations(img)\n",
    "            face_encodings = face_recognition.face_encodings(img, face_locations)\n",
    "\n",
    "            for face_encoding in face_encodings:\n",
    "                matches = face_recognition.compare_faces(known_face_encodings, face_encoding, tolerance=0.5)\n",
    "                name = \"Unknown\"\n",
    "\n",
    "                face_distances = face_recognition.face_distance(known_face_encodings, face_encoding)\n",
    "                if len(face_distances) > 0:\n",
    "                    best_match_index = np.argmin(face_distances)\n",
    "                    if matches[best_match_index]:\n",
    "                        name = known_face_names[best_match_index]\n",
    "                        if name not in recognized_names:\n",
    "                            recognized_names.append(name)\n",
    "                            mark_attendance(name)\n",
    "\n",
    "    return render_template('index.html', recognized=recognized_names, attendance_list=read_attendance())\n",
    "\n",
    "@app.route('/download')\n",
    "def download_attendance():\n",
    "    if os.path.exists('attendance.csv'):\n",
    "        return send_file('attendance.csv', as_attachment=True)\n",
    "    flash('No attendance records to download.')\n",
    "    return redirect('/')\n",
    "\n",
    "@app.route('/clear')\n",
    "def clear_attendance():\n",
    "    open('attendance.csv', 'w').close()\n",
    "    attendance_records.clear()\n",
    "    flash('Attendance log cleared successfully.')\n",
    "    return redirect('/')\n",
    "\n",
    "@app.route('/reload_known_faces')\n",
    "def reload_known_faces():\n",
    "    load_known_faces()\n",
    "    flash('Known faces reloaded successfully.')\n",
    "    return redirect('/')\n",
    "\n",
    "@app.route('/api/attendance')\n",
    "def api_attendance():\n",
    "    return jsonify(read_attendance())\n",
    "\n",
    "if __name__ == '__main__':\n",
    "    if not os.path.exists('uploads'):\n",
    "        os.makedirs('uploads')\n",
    "    app.run(debug=True)\n"
   ]
  },
  {
   "cell_type": "code",
   "execution_count": 3,
   "id": "4d999711-480c-4860-bb88-a7c25279abca",
   "metadata": {},
   "outputs": [
    {
     "name": "stdout",
     "output_type": "stream",
     "text": [
      "Requirement already satisfied: flask in c:\\users\\saksh\\anaconda3\\lib\\site-packages (3.1.0)\n",
      "Collecting opencv-python\n",
      "  Using cached opencv_python-4.12.0.88-cp37-abi3-win_amd64.whl.metadata (19 kB)\n",
      "Collecting face_recognition\n",
      "  Using cached face_recognition-1.3.0-py2.py3-none-any.whl.metadata (21 kB)\n",
      "Requirement already satisfied: numpy in c:\\users\\saksh\\anaconda3\\lib\\site-packages (2.1.3)\n",
      "Requirement already satisfied: pillow in c:\\users\\saksh\\anaconda3\\lib\\site-packages (11.1.0)\n",
      "Requirement already satisfied: Werkzeug>=3.1 in c:\\users\\saksh\\anaconda3\\lib\\site-packages (from flask) (3.1.3)\n",
      "Requirement already satisfied: Jinja2>=3.1.2 in c:\\users\\saksh\\anaconda3\\lib\\site-packages (from flask) (3.1.6)\n",
      "Requirement already satisfied: itsdangerous>=2.2 in c:\\users\\saksh\\anaconda3\\lib\\site-packages (from flask) (2.2.0)\n",
      "Requirement already satisfied: click>=8.1.3 in c:\\users\\saksh\\anaconda3\\lib\\site-packages (from flask) (8.1.8)\n",
      "Requirement already satisfied: blinker>=1.9 in c:\\users\\saksh\\anaconda3\\lib\\site-packages (from flask) (1.9.0)\n",
      "Collecting face-recognition-models>=0.3.0 (from face_recognition)\n",
      "  Using cached face_recognition_models-0.3.0-py2.py3-none-any.whl\n",
      "Collecting dlib>=19.7 (from face_recognition)\n",
      "  Using cached dlib-20.0.0.tar.gz (3.3 MB)\n",
      "  Installing build dependencies: started\n",
      "  Installing build dependencies: finished with status 'done'\n",
      "  Getting requirements to build wheel: started\n",
      "  Getting requirements to build wheel: finished with status 'done'\n",
      "  Preparing metadata (pyproject.toml): started\n",
      "  Preparing metadata (pyproject.toml): finished with status 'done'\n",
      "Requirement already satisfied: colorama in c:\\users\\saksh\\anaconda3\\lib\\site-packages (from click>=8.1.3->flask) (0.4.6)\n",
      "Requirement already satisfied: MarkupSafe>=2.0 in c:\\users\\saksh\\anaconda3\\lib\\site-packages (from Jinja2>=3.1.2->flask) (3.0.2)\n",
      "Using cached opencv_python-4.12.0.88-cp37-abi3-win_amd64.whl (39.0 MB)\n",
      "Using cached face_recognition-1.3.0-py2.py3-none-any.whl (15 kB)\n",
      "Building wheels for collected packages: dlib\n",
      "  Building wheel for dlib (pyproject.toml): started\n",
      "  Building wheel for dlib (pyproject.toml): still running...\n",
      "  Building wheel for dlib (pyproject.toml): still running...\n",
      "  Building wheel for dlib (pyproject.toml): still running...\n",
      "  Building wheel for dlib (pyproject.toml): finished with status 'done'\n",
      "  Created wheel for dlib: filename=dlib-20.0.0-cp313-cp313-win_amd64.whl size=2928497 sha256=ae4b900d06ae859086e093e89db76ea91f3b10b0a1387d435ec11dddabc71d33\n",
      "  Stored in directory: c:\\users\\saksh\\appdata\\local\\pip\\cache\\wheels\\d4\\0d\\ef\\354663d702c37ab4b234126cfc6b61cfb36eda5ba193613a2c\n",
      "Successfully built dlib\n",
      "Installing collected packages: face-recognition-models, dlib, opencv-python, face_recognition\n",
      "\n",
      "   ---------------------------------------- 0/4 [face-recognition-models]\n",
      "   ---------------------------------------- 0/4 [face-recognition-models]\n",
      "   ---------------------------------------- 0/4 [face-recognition-models]\n",
      "   ---------- ----------------------------- 1/4 [dlib]\n",
      "   -------------------- ------------------- 2/4 [opencv-python]\n",
      "   -------------------- ------------------- 2/4 [opencv-python]\n",
      "   -------------------- ------------------- 2/4 [opencv-python]\n",
      "   ---------------------------------------- 4/4 [face_recognition]\n",
      "\n",
      "Successfully installed dlib-20.0.0 face-recognition-models-0.3.0 face_recognition-1.3.0 opencv-python-4.12.0.88\n",
      "Note: you may need to restart the kernel to use updated packages.\n"
     ]
    }
   ],
   "source": [
    "pip install flask opencv-python face_recognition numpy pillow\n"
   ]
  },
  {
   "cell_type": "code",
   "execution_count": 5,
   "id": "d6351941-346f-42d0-bb23-0ed606b59669",
   "metadata": {},
   "outputs": [
    {
     "name": "stdout",
     "output_type": "stream",
     "text": [
      "C:\\Users\\saksh\\anaconda3;C:\\Users\\saksh\\anaconda3\\Library\\mingw-w64\\bin;C:\\Users\\saksh\\anaconda3\\Library\\usr\\bin;C:\\Users\\saksh\\anaconda3\\Library\\bin;C:\\Users\\saksh\\anaconda3\\Scripts;C:\\Program Files (x86)\\Common Files\\Oracle\\Java\\javapath;C:\\Users\\saksh\\OneDrive\\Desktop\\mingw32\\bin;C:\\MinGW\\bin;C:\\Windows\\System32\\WindowsPowerShell\\v1.0\\;C:\\WINDOWS\\system32;C:\\WINDOWS;C:\\WINDOWS\\System32\\Wbem;C:\\WINDOWS\\System32\\WindowsPowerShell\\v1.0\\;C:\\WINDOWS\\System32\\OpenSSH\\;C:\\Program Files\\Git\\cmd;C:\\Program Files\\Cloudflare\\Cloudflare WARP\\;C:\\Program Files (x86)\\Windows Kits\\10\\Windows Performance Toolkit\\;C:\\Users\\saksh\\.cargo\\bin;C:\\Program Files\\MySQL\\MySQL Server 8.0\\bin;C:\\Program Files\\CMake\\bin;C:\\Program Files\\nodejs\\;C:\\Program Files\\MySQL\\MySQL Shell 8.0\\bin\\;C:\\Users\\saksh\\.cargo\\bin;C:\\Users\\saksh\\AppData\\Local\\Programs\\Python\\Launcher\\;C:\\Users\\saksh\\AppData\\Local\\Microsoft\\WindowsApps;C:\\Users\\saksh\\AppData\\Local\\Programs\\Microsoft VS Code\\bin;C:\\Users\\saksh\\OneDrive\\Desktop\\mingw32\\bin;C:\\flutter\\bin;C:\\Windows\\System32;C:\\msys64\\ucrt64\\bin;C:\\Program Files\\R\\R-4.4.2\\bin;;C:\\Users\\saksh\\AppData\\Local\\Programs\\Ollama;C:\\Users\\saksh\\AppData\\Roaming\\npm\n"
     ]
    }
   ],
   "source": [
    "import os\n",
    "print(os.environ['PATH'])\n"
   ]
  },
  {
   "cell_type": "code",
   "execution_count": 2,
   "id": "621a3bca-7d58-4aae-8449-a3915175e530",
   "metadata": {},
   "outputs": [
    {
     "name": "stdout",
     "output_type": "stream",
     "text": [
      "C:\\Program Files\\CMake\\bin\\cmake.exe\n"
     ]
    }
   ],
   "source": [
    "!where cmake\n"
   ]
  },
  {
   "cell_type": "code",
   "execution_count": 1,
   "id": "fc1a4921-2d0e-47d2-842e-e50a7f4a8b1b",
   "metadata": {},
   "outputs": [
    {
     "name": "stdout",
     "output_type": "stream",
     "text": [
      "cmake version 4.1.0-rc2\n",
      "\n",
      "CMake suite maintained and supported by Kitware (kitware.com/cmake).\n"
     ]
    }
   ],
   "source": [
    "!cmake --version\n"
   ]
  },
  {
   "cell_type": "code",
   "execution_count": 2,
   "id": "19244480-1b44-469b-aff4-417cfd8bbc18",
   "metadata": {},
   "outputs": [
    {
     "name": "stderr",
     "output_type": "stream",
     "text": [
      "INFO: Could not find files for the given pattern(s).\n"
     ]
    }
   ],
   "source": [
    "!where cmake\n"
   ]
  },
  {
   "cell_type": "code",
   "execution_count": 3,
   "id": "1e5750a4-c2bd-4219-8bc5-36ea33ce563d",
   "metadata": {},
   "outputs": [
    {
     "name": "stdout",
     "output_type": "stream",
     "text": [
      "C:\\Users\\saksh\\anaconda3\\python.exe\n"
     ]
    }
   ],
   "source": [
    "!where python\n"
   ]
  },
  {
   "cell_type": "code",
   "execution_count": 4,
   "id": "96e0da7c-031b-4cb6-b0f7-ab645512c96e",
   "metadata": {},
   "outputs": [
    {
     "name": "stdout",
     "output_type": "stream",
     "text": [
      "C:\\Users\\saksh\\anaconda3\\python.exe\n"
     ]
    }
   ],
   "source": [
    "import sys\n",
    "print(sys.executable)\n"
   ]
  },
  {
   "cell_type": "code",
   "execution_count": null,
   "id": "1256d7ee-a90c-4e90-8be0-9a3c8f1ff2f4",
   "metadata": {},
   "outputs": [],
   "source": []
  },
  {
   "cell_type": "code",
   "execution_count": null,
   "id": "3127cb03-a2f8-46b1-a989-ab60c034ad78",
   "metadata": {},
   "outputs": [],
   "source": []
  }
 ],
 "metadata": {
  "kernelspec": {
   "display_name": "cleanenv",
   "language": "python",
   "name": "cleanenv"
  },
  "language_info": {
   "codemirror_mode": {
    "name": "ipython",
    "version": 3
   },
   "file_extension": ".py",
   "mimetype": "text/x-python",
   "name": "python",
   "nbconvert_exporter": "python",
   "pygments_lexer": "ipython3",
   "version": "3.13.5"
  }
 },
 "nbformat": 4,
 "nbformat_minor": 5
}
